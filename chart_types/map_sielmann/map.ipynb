{
 "cells": [
  {
   "cell_type": "markdown",
   "id": "2fb50037",
   "metadata": {},
   "source": [
    "# Visualization type: Map"
   ]
  },
  {
   "cell_type": "markdown",
   "id": "8ceea90f",
   "metadata": {},
   "source": [
    "## Alternative names: \n"
   ]
  },
  {
   "cell_type": "markdown",
   "id": "0cfd3c9d",
   "metadata": {},
   "source": [
    "- Cartography, Spatial chart, Geo-Visualization"
   ]
  },
  {
   "cell_type": "markdown",
   "id": "cd353668",
   "metadata": {},
   "source": [
    "# Functions & Purpose:"
   ]
  },
  {
   "cell_type": "markdown",
   "id": "c535148d",
   "metadata": {},
   "source": [
    "- Geospatial Analysis and Pattern Recognition: Maps allow users to visualize geographical data, facilitating the identification of spatial patterns, trends, and anomalies. This aids in understanding relationships and distributions across \n",
    "- Enhanced Data Interpretation and Communication: By contextualizing data geographically, maps make complex data more accessible and understandable. This visual representation improves communication of information to a broad audience, supporting more effective storytelling and data-driven discussions.\n",
    "- Resource Allocation and Strategic Planning: Maps support the efficient allocation of resources by highlighting areas of need, opportunity, or high intensity. This visualization is essential for urban planning, logistics, marketing strategies, and various other fields where spatial data is a key factor in decision-making processes."
   ]
  },
  {
   "cell_type": "markdown",
   "id": "d687435b",
   "metadata": {},
   "source": [
    "## Aesthetics used: "
   ]
  },
  {
   "cell_type": "markdown",
   "id": "ee1523d5",
   "metadata": {},
   "source": [
    "- Color scheme\n",
    "- Symbol design \n",
    "- Cartographic scale"
   ]
  },
  {
   "cell_type": "markdown",
   "id": "c18a6258",
   "metadata": {},
   "source": [
    "## Potential pitfalls:"
   ]
  },
  {
   "cell_type": "markdown",
   "id": "fbc5fb5b",
   "metadata": {},
   "source": [
    "- Using inconsistent symbols, colors, or styles can make it difficult for viewers to interpret the map accurately"
   ]
  },
  {
   "cell_type": "markdown",
   "id": "37fda34c",
   "metadata": {},
   "source": [
    "![Average_land_temperature_in_countries](Average_land_temperature_in_countries.png)\n"
   ]
  },
  {
   "cell_type": "markdown",
   "id": "f02c8ac2",
   "metadata": {},
   "source": [
    "## Multiple Choice question"
   ]
  },
  {
   "cell_type": "markdown",
   "id": "b9882243",
   "metadata": {},
   "source": [
    "\"Which of the following is a common consideration when designing a map visualization?\"\n",
    "- A) Sound effects\n",
    "- B) Font size\n",
    "- C) Taste preferences\n",
    "- D) Smell integration\n",
    "\n",
    "Correct answer: B)"
   ]
  },
  {
   "cell_type": "code",
   "execution_count": null,
   "id": "fd3a0c20",
   "metadata": {},
   "outputs": [],
   "source": []
  }
 ],
 "metadata": {
  "kernelspec": {
   "display_name": "Python 3 (ipykernel)",
   "language": "python",
   "name": "python3"
  },
  "language_info": {
   "codemirror_mode": {
    "name": "ipython",
    "version": 3
   },
   "file_extension": ".py",
   "mimetype": "text/x-python",
   "name": "python",
   "nbconvert_exporter": "python",
   "pygments_lexer": "ipython3",
   "version": "3.11.5"
  }
 },
 "nbformat": 4,
 "nbformat_minor": 5
}
